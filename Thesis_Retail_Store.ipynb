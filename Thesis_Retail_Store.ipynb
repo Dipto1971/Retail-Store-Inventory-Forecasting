{
  "cells": [
    {
      "cell_type": "markdown",
      "metadata": {
        "id": "view-in-github",
        "colab_type": "text"
      },
      "source": [
        "<a href=\"https://colab.research.google.com/github/Dipto1971/Retail-Store-Inventory-Forecasting/blob/main/Thesis_Retail_Store.ipynb\" target=\"_parent\"><img src=\"https://colab.research.google.com/assets/colab-badge.svg\" alt=\"Open In Colab\"/></a>"
      ]
    },
    {
      "cell_type": "code",
      "execution_count": null,
      "metadata": {
        "id": "2pP9NYyHVfhU"
      },
      "outputs": [],
      "source": [
        "import pandas as pd\n",
        "import numpy as np\n",
        "import statsmodels.api as sm\n",
        "from sklearn.preprocessing import LabelEncoder\n",
        "from sklearn.preprocessing import MinMaxScaler, StandardScaler\n",
        "from scipy.stats import ttest_ind, chi2_contingency, f_oneway\n",
        "from scipy.stats import shapiro, normaltest\n",
        "import matplotlib.pyplot as plt\n",
        "import seaborn as sns\n",
        "import statsmodels.api as sm\n",
        "from sklearn.preprocessing import LabelEncoder\n",
        "from scipy.stats import ttest_ind, chi2_contingency, f_oneway\n",
        "from sklearn.preprocessing import LabelEncoder\n",
        "from sklearn.linear_model import LogisticRegression\n",
        "from sklearn.ensemble import IsolationForest\n",
        "from sklearn.ensemble import RandomForestClassifier\n",
        "from sklearn.model_selection import learning_curve\n",
        "from sklearn.model_selection import train_test_split, StratifiedKFold, cross_val_score\n",
        "from sklearn.svm import SVC\n",
        "from xgboost import XGBClassifier\n",
        "from sklearn.metrics import accuracy_score, precision_score, recall_score, f1_score, confusion_matrix\n",
        "from statsmodels.formula.api import ols"
      ]
    },
    {
      "cell_type": "code",
      "execution_count": null,
      "metadata": {
        "id": "DY_p1q0UcjET"
      },
      "outputs": [],
      "source": [
        "# Install dependencies as needed:\n",
        "# pip install kagglehub[pandas-datasets]\n",
        "import kagglehub\n",
        "from kagglehub import KaggleDatasetAdapter\n",
        "\n",
        "# Set the path to the file you'd like to load\n",
        "file_path = \"retail_store_inventory.csv\"\n",
        "\n",
        "# Load the latest version\n",
        "df = kagglehub.load_dataset(\n",
        "  KaggleDatasetAdapter.PANDAS,\n",
        "  \"anirudhchauhan/retail-store-inventory-forecasting-dataset\",\n",
        "  file_path,\n",
        "  # Provide any additional arguments like\n",
        "  # sql_query or pandas_kwargs. See the\n",
        "  # documenation for more information:\n",
        "  # https://github.com/Kaggle/kagglehub/blob/main/README.md#kaggledatasetadapterpandas\n",
        ")\n",
        "\n",
        "print(\"First 5 records:\", df.head())"
      ]
    },
    {
      "cell_type": "code",
      "execution_count": null,
      "metadata": {
        "id": "B0C_uDTNdo7g"
      },
      "outputs": [],
      "source": [
        "df.info()"
      ]
    },
    {
      "cell_type": "code",
      "execution_count": null,
      "metadata": {
        "id": "x_3-dteNVBOA"
      },
      "outputs": [],
      "source": [
        "print(\"\\nSummary Statistics for Numerical Columns:\")\n",
        "print(df.describe())"
      ]
    },
    {
      "cell_type": "code",
      "execution_count": null,
      "metadata": {
        "id": "15X_N2mn1Blk"
      },
      "outputs": [],
      "source": [
        "# Convert the 'Date' column to datetime\n",
        "df['Date'] = pd.to_datetime(df['Date'])"
      ]
    },
    {
      "cell_type": "code",
      "execution_count": null,
      "metadata": {
        "id": "C6D3L2hO1EEW"
      },
      "outputs": [],
      "source": [
        "# ==============================\n",
        "# Visualizations\n",
        "# ==============================\n",
        "\n",
        "# Set visualization style\n",
        "sns.set(style=\"whitegrid\")\n",
        "plt.rcParams[\"figure.figsize\"] = (10, 6)"
      ]
    },
    {
      "cell_type": "markdown",
      "metadata": {
        "id": "oN53mH6bAbZG"
      },
      "source": [
        "# Distribution Plots for Numerical Columns\n"
      ]
    },
    {
      "cell_type": "code",
      "execution_count": null,
      "metadata": {
        "id": "Xos7PDOC0pCt"
      },
      "outputs": [],
      "source": [
        "# 1. Distribution Plots for Numerical Columns\n",
        "num_cols = ['Inventory Level', 'Units Sold', 'Units Ordered', 'Demand Forecast', 'Competitor Pricing']\n",
        "\n",
        "for col in num_cols:\n",
        "    plt.figure()\n",
        "    sns.histplot(df[col], kde=True, bins=30)\n",
        "    plt.title(f'Distribution of {col}')\n",
        "    plt.xlabel(col)\n",
        "    plt.ylabel('Frequency')\n",
        "    plt.show()"
      ]
    },
    {
      "cell_type": "markdown",
      "metadata": {
        "id": "QDLDnxKkAmZ0"
      },
      "source": [
        "# Distribution Plots for Categorical Columns\n"
      ]
    },
    {
      "cell_type": "code",
      "execution_count": null,
      "metadata": {
        "id": "gJKiZlvk0qt_"
      },
      "outputs": [],
      "source": [
        "# 2. Count Plots for Categorical Columns\n",
        "cat_cols = ['Category', 'Region', 'Weather Condition', 'Seasonality']\n",
        "\n",
        "for col in cat_cols:\n",
        "    plt.figure(figsize=(12, 4))\n",
        "    order = df[col].value_counts().index  # sort by frequency\n",
        "    sns.countplot(x=col, data=df, order=order)\n",
        "    plt.title(f'Count Plot for {col}')\n",
        "    plt.xlabel(col)\n",
        "    plt.ylabel('Count')\n",
        "    plt.xticks(rotation=45)"
      ]
    },
    {
      "cell_type": "markdown",
      "metadata": {
        "id": "JbSP7zbcA5ou"
      },
      "source": [
        "# Time Series Analysis: Daily Total Units Sold"
      ]
    },
    {
      "cell_type": "code",
      "execution_count": null,
      "metadata": {
        "id": "5EUK5QgF0uwH"
      },
      "outputs": [],
      "source": [
        "# 3. Time Series Analysis: Daily Total Units Sold\n",
        "daily_sales = df.groupby('Date')['Units Sold'].sum().reset_index()\n",
        "plt.figure(figsize=(18, 6))\n",
        "sns.lineplot(x='Date', y='Units Sold', data=daily_sales)\n",
        "plt.title('Daily Total Units Sold Over Time')\n",
        "plt.xlabel('Date')\n",
        "plt.ylabel('Total Units Sold')\n",
        "plt.xticks(rotation=45)\n",
        "plt.show()"
      ]
    },
    {
      "cell_type": "markdown",
      "metadata": {
        "id": "JstDxrX9BNOI"
      },
      "source": [
        "# Correlation HeatMap"
      ]
    },
    {
      "cell_type": "code",
      "execution_count": null,
      "metadata": {
        "id": "-MOWVSBM001Z"
      },
      "outputs": [],
      "source": [
        "# 4. Correlation Matrix Heatmap for Numerical Features\n",
        "numeric_columns = df.select_dtypes(include=[np.number]).columns\n",
        "plt.figure(figsize=(10, 8))\n",
        "corr = df[numeric_columns].corr()\n",
        "sns.heatmap(corr, annot=True, cmap='coolwarm', fmt=\".2f\")\n",
        "plt.title('Correlation Heatmap of Numerical Features')\n",
        "plt.show()"
      ]
    },
    {
      "cell_type": "code",
      "execution_count": null,
      "metadata": {
        "id": "2EAhgXto05jv"
      },
      "outputs": [],
      "source": [
        "# 5. Box Plot: Units Sold Distribution by Category\n",
        "plt.figure(figsize=(12, 6))\n",
        "sns.boxplot(x='Category', y='Units Sold', data=df)\n",
        "plt.title('Units Sold Distribution by Category')\n",
        "plt.xlabel('Category')\n",
        "plt.ylabel('Units Sold')\n",
        "plt.xticks(rotation=45)\n",
        "plt.show()"
      ]
    },
    {
      "cell_type": "markdown",
      "metadata": {
        "id": "IswPIk5Xv4wi"
      },
      "source": [
        "# Monthly Sales Trend"
      ]
    },
    {
      "cell_type": "code",
      "execution_count": null,
      "metadata": {
        "id": "N7QlnCnEvC2g"
      },
      "outputs": [],
      "source": [
        "monthly_sales = df.groupby(df['Date'].dt.to_period('M'))['Units Sold'].sum().reset_index()\n",
        "monthly_sales['Date'] = monthly_sales['Date'].dt.to_timestamp()\n",
        "plt.figure(figsize=(18, 6))\n",
        "plt.plot(monthly_sales['Date'], monthly_sales['Units Sold'])\n",
        "plt.title('Monthly Sales Trend')\n",
        "plt.xlabel('Date')\n",
        "plt.ylabel('Units Sold')\n",
        "plt.show()"
      ]
    },
    {
      "cell_type": "markdown",
      "metadata": {
        "id": "QWrh2oy16vph"
      },
      "source": [
        "# Challenge 2: Inventory Optimization"
      ]
    },
    {
      "cell_type": "code",
      "execution_count": null,
      "metadata": {
        "id": "MWgxSMP76-15"
      },
      "outputs": [],
      "source": [
        "plt.figure(figsize=(18, 6))\n",
        "sns.lineplot(x='Date', y='Inventory Level', data=df)\n",
        "plt.title('Inventory Level Over Time')\n",
        "plt.show()"
      ]
    },
    {
      "cell_type": "code",
      "execution_count": null,
      "metadata": {
        "id": "WwXd9BOK7ZMW"
      },
      "outputs": [],
      "source": [
        "# Calculate stockout frequency\n",
        "stockout_freq = (df['Inventory Level'] == 0).mean()\n",
        "print(f\"Stockout frequency: {stockout_freq:.2%}\")"
      ]
    },
    {
      "cell_type": "code",
      "execution_count": null,
      "metadata": {
        "id": "8zQPN_R_7bN1"
      },
      "outputs": [],
      "source": [
        "# Calculate overstock frequency\n",
        "avg_daily_sales = df.groupby('Date')['Units Sold'].mean().mean()\n",
        "overstock_freq = (df['Inventory Level'] > 2 * avg_daily_sales).mean()\n",
        "print(f\"Overstock frequency: {overstock_freq:.2%}\")"
      ]
    },
    {
      "cell_type": "code",
      "execution_count": null,
      "metadata": {
        "id": "Lr8YbKbP7sos"
      },
      "outputs": [],
      "source": [
        "# Sort the DataFrame by date and store/product ID to ensure correct lag and rolling calculations\n",
        "df = df.sort_values(['Store ID', 'Product ID', 'Date'])\n",
        "\n",
        "# Create lag features\n",
        "for lag in [1, 7]:\n",
        "    df[f'Sales_Lag_{lag}'] = df.groupby(['Store ID', 'Product ID'])['Units Sold'].shift(lag)\n",
        "\n",
        "# Create rolling mean features\n",
        "for window in [7, 14]:\n",
        "    df[f'Sales_RollingMean_{window}'] = df.groupby(['Store ID', 'Product ID'])['Units Sold'].transform(lambda x: x.rolling(window=window, min_periods=1).mean())\n",
        "\n",
        "# Add day of week and month\n",
        "df['DayOfWeek'] = df['Date'].dt.dayofweek\n",
        "df['Month'] = df['Date'].dt.month\n",
        "\n",
        "# Print the shape of the DataFrame after dropping NA values\n",
        "print(f\"Shape before dropping NA: {df.shape}\")\n",
        "\n",
        "# Handle missing values\n",
        "df = df.dropna()\n",
        "\n",
        "# Print the shape of the DataFrame after dropping NA values\n",
        "print(f\"Shape after dropping NA: {df.shape}\")\n",
        "\n",
        "# Check the created features\n",
        "print(df[['Units Sold'] + [f'Sales_Lag_{lag}' for lag in [1, 7]] + [f'Sales_RollingMean_{window}' for window in [7, 14]] + ['DayOfWeek', 'Month']].head())"
      ]
    },
    {
      "cell_type": "code",
      "execution_count": null,
      "metadata": {
        "id": "BUBoPn707fjZ"
      },
      "outputs": [],
      "source": [
        "import pandas as pd\n",
        "import numpy as np\n",
        "\n",
        "# For splitting the data and evaluating models\n",
        "from sklearn.model_selection import train_test_split\n",
        "from sklearn.metrics import mean_squared_error, r2_score\n",
        "\n",
        "# Import machine learning models\n",
        "from sklearn.linear_model import LinearRegression\n",
        "from sklearn.tree import DecisionTreeRegressor\n",
        "from sklearn.ensemble import RandomForestRegressor, GradientBoostingRegressor\n",
        "import xgboost as xgb\n",
        "\n",
        "# For scaling (used by Linear Regression)\n",
        "from sklearn.preprocessing import StandardScaler"
      ]
    },
    {
      "cell_type": "code",
      "execution_count": null,
      "metadata": {
        "colab": {
          "background_save": true
        },
        "id": "oMywnt22IeTD",
        "outputId": "e8ba47fc-41c9-4114-af7e-5879a2eca396"
      },
      "outputs": [
        {
          "name": "stdout",
          "output_type": "stream",
          "text": [
            "Linear Regression: RMSE = 8.641, R2 = 0.994\n",
            "Decision Tree: RMSE = 11.878, R2 = 0.988\n",
            "Random Forest: RMSE = 8.568, R2 = 0.994\n",
            "Gradient Boosting: RMSE = 8.477, R2 = 0.994\n",
            "XGBoost: RMSE = 8.548, R2 = 0.994\n",
            "\n",
            "Best performing model: Gradient Boosting\n"
          ]
        }
      ],
      "source": [
        "# Define features and target. (Make sure these columns exist in df.)\n",
        "features = [\n",
        "    'Inventory Level', 'Units Ordered', 'Demand Forecast', 'Price',\n",
        "    'Discount', 'Competitor Pricing', 'Sales_Lag_1', 'Sales_Lag_7',\n",
        "    'Sales_RollingMean_7', 'Sales_RollingMean_14', 'DayOfWeek', 'Month'\n",
        "]\n",
        "target = 'Units Sold'\n",
        "\n",
        "# Create feature matrix X and target vector y\n",
        "X = df[features]\n",
        "y = df[target]\n",
        "\n",
        "# Split data into training and test sets\n",
        "X_train, X_test, y_train, y_test = train_test_split(\n",
        "    X, y, test_size=0.2, random_state=42\n",
        ")\n",
        "\n",
        "# Scale features for models that benefit from scaling (e.g., Linear Regression)\n",
        "scaler = StandardScaler()\n",
        "X_train_scaled = scaler.fit_transform(X_train)\n",
        "X_test_scaled = scaler.transform(X_test)\n",
        "\n",
        "# Define our five models in a dictionary\n",
        "models = {\n",
        "    'Linear Regression': LinearRegression(),\n",
        "    'Decision Tree': DecisionTreeRegressor(random_state=42),\n",
        "    'Random Forest': RandomForestRegressor(n_estimators=100, random_state=42),\n",
        "    'Gradient Boosting': GradientBoostingRegressor(n_estimators=100, random_state=42),\n",
        "    'XGBoost': xgb.XGBRegressor(objective='reg:squarederror', n_estimators=100, random_state=42)\n",
        "}\n",
        "\n",
        "# Dictionary to store model results\n",
        "results = {}\n",
        "\n",
        "# Train and evaluate each model\n",
        "for name, model in models.items():\n",
        "    if name == 'Linear Regression':\n",
        "        # Use scaled features for Linear Regression\n",
        "        model.fit(X_train_scaled, y_train)\n",
        "        predictions = model.predict(X_test_scaled)\n",
        "    else:\n",
        "        # For tree-based methods, use unscaled features\n",
        "        model.fit(X_train, y_train)\n",
        "        predictions = model.predict(X_test)\n",
        "\n",
        "    # Calculate RMSE and R2 Score\n",
        "    rmse = np.sqrt(mean_squared_error(y_test, predictions))\n",
        "    r2 = r2_score(y_test, predictions)\n",
        "\n",
        "    results[name] = {'RMSE': rmse, 'R2': r2}\n",
        "\n",
        "# Print results for each model\n",
        "for model_name, scores in results.items():\n",
        "    print(f\"{model_name}: RMSE = {scores['RMSE']:.3f}, R2 = {scores['R2']:.3f}\")\n",
        "\n",
        "# Determine the best scoring model based on RMSE (lower RMSE is better)\n",
        "best_model = min(results, key=lambda x: results[x]['RMSE'])\n",
        "print(f\"\\nBest performing model: {best_model}\")\n"
      ]
    },
    {
      "cell_type": "code",
      "execution_count": null,
      "metadata": {
        "id": "pF36SilzyTFA",
        "outputId": "989f74df-3a56-499b-86e8-4a542f9082f9",
        "colab": {
          "base_uri": "https://localhost:8080/",
          "height": 1000
        }
      },
      "outputs": [
        {
          "metadata": {
            "tags": null
          },
          "name": "stdout",
          "output_type": "stream",
          "text": [
            "Plotting learning curve for Linear Regression...\n"
          ]
        },
        {
          "data": {
            "image/png": "[encoded data removed]",
            "text/plain": [
              "<Figure size 800x600 with 1 Axes>"
            ]
          },
          "metadata": {},
          "output_type": "display_data"
        },
        {
          "metadata": {
            "tags": null
          },
          "name": "stdout",
          "output_type": "stream",
          "text": [
            "Plotting learning curve for Decision Tree...\n"
          ]
        },
        {
          "data": {
            "image/png": "[encoded data removed]",
            "text/plain": [
              "<Figure size 800x600 with 1 Axes>"
            ]
          },
          "metadata": {},
          "output_type": "display_data"
        },
        {
          "metadata": {
            "tags": null
          },
          "name": "stdout",
          "output_type": "stream",
          "text": [
            "Plotting learning curve for Random Forest...\n"
          ]
        }
      ],
      "source": [
        "import numpy as np\n",
        "import matplotlib.pyplot as plt\n",
        "from sklearn.model_selection import learning_curve\n",
        "def plot_learning_curve(model, X, y, cv, scoring, title):\n",
        "    \"\"\"\n",
        "    Plot learning curve for a given model.\n",
        "\n",
        "    Parameters:\n",
        "        model    : The machine learning model (estimator).\n",
        "        X        : Feature matrix.\n",
        "        y        : Target vector.\n",
        "        cv       : Number of cross-validation folds.\n",
        "        scoring  : Scoring metric (use 'neg_mean_squared_error' for MSE).\n",
        "        title    : Plot title.\n",
        "    \"\"\"\n",
        "    # Compute learning curve\n",
        "    train_sizes, train_scores, test_scores = learning_curve(\n",
        "        model, X, y, cv=cv, scoring=scoring,\n",
        "        train_sizes=np.linspace(0.1, 1.0, 10),  # from 10% to 100% of training data\n",
        "        n_jobs=-1  # use all processors if possible\n",
        "    )\n",
        "\n",
        "    # Since we're using negative MSE, convert scores to positive MSE\n",
        "    train_scores_mean = -np.mean(train_scores, axis=1)\n",
        "    test_scores_mean = -np.mean(test_scores, axis=1)\n",
        "\n",
        "    # Plot the learning curve\n",
        "    plt.figure(figsize=(8, 6))\n",
        "    plt.plot(train_sizes, train_scores_mean, 'o-', color=\"r\", label=\"Training MSE\")\n",
        "    plt.plot(train_sizes, test_scores_mean, 'o-', color=\"g\", label=\"CV MSE\")\n",
        "    plt.title(title)\n",
        "    plt.xlabel(\"Number of Training Examples\")\n",
        "    plt.ylabel(\"Mean Squared Error\")\n",
        "    plt.legend(loc=\"best\")\n",
        "    plt.grid(True)\n",
        "    plt.show()\n",
        "# Import models\n",
        "from sklearn.linear_model import LinearRegression\n",
        "from sklearn.tree import DecisionTreeRegressor\n",
        "from sklearn.ensemble import RandomForestRegressor, GradientBoostingRegressor\n",
        "import xgboost as xgb\n",
        "\n",
        "# Dictionary of models\n",
        "models = {\n",
        "    'Linear Regression': LinearRegression(),\n",
        "    'Decision Tree': DecisionTreeRegressor(random_state=42),\n",
        "    'Random Forest': RandomForestRegressor(n_estimators=100, random_state=42),\n",
        "    'Gradient Boosting': GradientBoostingRegressor(n_estimators=100, random_state=42),\n",
        "    'XGBoost': xgb.XGBRegressor(objective='reg:squarederror', n_estimators=100, random_state=42)\n",
        "}\n",
        "cv = 5  # 5-fold cross-validation\n",
        "\n",
        "for name, model in models.items():\n",
        "    # For Linear Regression, use scaled data; otherwise use raw training data.\n",
        "    if name == 'Linear Regression':\n",
        "         X_data = X_train_scaled\n",
        "    else:\n",
        "         X_data = X_train\n",
        "\n",
        "    print(f\"Plotting learning curve for {name}...\")\n",
        "    plot_learning_curve(\n",
        "        model, X_data, y_train,\n",
        "        cv=cv,\n",
        "        scoring='neg_mean_squared_error',  # Using negative MSE; learning_curve will return negative values.\n",
        "        title=f\"Learning Curve for {name}\"\n",
        "    )\n"
      ]
    },
    {
      "cell_type": "code",
      "execution_count": null,
      "metadata": {
        "id": "7Jk065tRKgTC"
      },
      "outputs": [],
      "source": [
        "from sklearn.ensemble import RandomForestRegressor\n",
        "from sklearn.model_selection import GridSearchCV\n",
        "from sklearn.metrics import mean_squared_error, r2_score\n",
        "import numpy as np\n",
        "\n",
        "# Define parameter grid for tuning\n",
        "param_grid = {\n",
        "    'n_estimators': [50, 100, 200],\n",
        "    'max_depth': [None, 10, 20, 30],\n",
        "    'min_samples_split': [2, 5, 10],\n",
        "    'min_samples_leaf': [1, 2, 4],\n",
        "    'max_features': ['auto', 'sqrt']\n",
        "}\n",
        "\n",
        "# Initialize the Random Forest Regressor\n",
        "rf = RandomForestRegressor(random_state=42)\n",
        "\n",
        "# Setup GridSearchCV: using negative MSE as scoring (to minimize error)\n",
        "grid_search = GridSearchCV(estimator=rf,\n",
        "                           param_grid=param_grid,\n",
        "                           cv=2,\n",
        "                           n_jobs=-1,\n",
        "                           scoring='neg_mean_squared_error',\n",
        "                           verbose=2)\n",
        "\n",
        "# Fit GridSearchCV on training data\n",
        "grid_search.fit(X_train, y_train)\n",
        "\n",
        "# Print the best parameters found\n",
        "print(\"Best Parameters:\", grid_search.best_params_)\n",
        "\n",
        "# Retrieve the best model\n",
        "best_rf = grid_search.best_estimator_\n",
        "\n",
        "# Evaluate the tuned model on the test set\n",
        "predictions = best_rf.predict(X_test)\n",
        "rmse = np.sqrt(mean_squared_error(y_test, predictions))\n",
        "r2 = r2_score(y_test, predictions)\n",
        "\n",
        "print(f\"Tuned Random Forest RMSE: {rmse:.3f}\")\n",
        "print(f\"Tuned Random Forest R2: {r2:.3f}\")\n"
      ]
    },
    {
      "cell_type": "code",
      "execution_count": null,
      "metadata": {
        "id": "zJRovFD_6arJ"
      },
      "outputs": [],
      "source": [
        "import shap\n",
        "import matplotlib.pyplot as plt\n",
        "\n",
        "# Create a SHAP explainer for your best gradient boosting model.\n",
        "# For tree-based models, TreeExplainer is efficient.\n",
        "explainer = shap.Explainer(best_gb, X_train)\n",
        "\n",
        "# Compute the SHAP values on the test set.\n",
        "shap_values = explainer(X_test)\n",
        "\n",
        "# Create a summary plot to visualize feature importance.\n",
        "shap.summary_plot(shap_values, X_test, plot_type=\"bar\")\n",
        "shap.summary_plot(shap_values, X_test)\n",
        "\n",
        "# Optionally, create a dependence plot for a specific feature, for example \"Price\".\n",
        "# This plot shows how the value of \"Price\" impacts the model's output.\n",
        "shap.dependence_plot(\"Price\", shap_values.values, X_test)\n",
        "\n",
        "# If you want to inspect a single prediction, you can also use the force plot.\n",
        "# For example, display the SHAP force plot for the first test sample:\n",
        "shap.initjs()  # Initialize JavaScript visualization in notebooks\n",
        "sample_index = 0\n",
        "shap.force_plot(explainer.expected_value, shap_values.values[sample_index, :], X_test.iloc[sample_index, :])"
      ]
    },
    {
      "cell_type": "code",
      "execution_count": null,
      "metadata": {
        "id": "wEOrPP1Vp3Xm"
      },
      "outputs": [],
      "source": [
        "import shap\n",
        "\n",
        "# Using TreeExplainer for tree-based models is more efficient than KernelExplainer.\n",
        "# best_gb is our tuned GradientBoostingRegressor model from previous hyperparameter tuning.\n",
        "explainer_gb = shap.TreeExplainer(best_gb)\n",
        "\n",
        "# Compute SHAP values for the training set.\n",
        "# For regression, shap_values_gb is an array where each row corresponds to an instance.\n",
        "shap_values_gb = explainer_gb.shap_values(X_train)\n",
        "\n",
        "# Initialize JavaScript visualization for SHAP plots (in Jupyter Notebook or similar environments).\n",
        "shap.initjs()\n",
        "\n",
        "# Visualize the explanation for the first prediction.\n",
        "# The expected value is the average model output over the training set.\n",
        "# X_train.iloc[0, :] retrieves the first instance's features.\n",
        "force_plot = shap.force_plot(explainer_gb.expected_value, shap_values_gb[0, :], X_train.iloc[0, :])\n",
        "\n",
        "# If you're in a Jupyter Notebook, the force plot will render automatically.\n",
        "# Otherwise, you can save it to an HTML file:\n",
        "shap.save_html(\"shap_force_plot.html\", force_plot)\n"
      ]
    }
  ],
  "metadata": {
    "accelerator": "GPU",
    "colab": {
      "gpuType": "T4",
      "provenance": [],
      "authorship_tag": "ABX9TyOriwMGGuDUfmT5m7Vzlq+1",
      "include_colab_link": true
    },
    "kernelspec": {
      "display_name": "Python 3",
      "name": "python3"
    },
    "language_info": {
      "name": "python"
    }
  },
  "nbformat": 4,
  "nbformat_minor": 0
}